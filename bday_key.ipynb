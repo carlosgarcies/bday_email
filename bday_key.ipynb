{
 "cells": [
  {
   "cell_type": "code",
   "execution_count": 169,
   "id": "bc732d28",
   "metadata": {},
   "outputs": [],
   "source": [
    "import pandas as pd\n",
    "import os\n",
    "from dotenv import load_dotenv\n",
    "import smtplib\n",
    "from datetime import date\n",
    "from datetime import datetime\n",
    "\n",
    "\n",
    "load_dotenv()\n",
    "mail=sender_mail\n",
    "password=pw"
   ]
  },
  {
   "cell_type": "code",
   "execution_count": 170,
   "id": "e99a401f",
   "metadata": {},
   "outputs": [
    {
     "data": {
      "text/plain": [
       "datetime.date(2024, 12, 7)"
      ]
     },
     "execution_count": 170,
     "metadata": {},
     "output_type": "execute_result"
    }
   ],
   "source": [
    "date.today()"
   ]
  },
  {
   "cell_type": "code",
   "execution_count": 187,
   "id": "8baf55bc",
   "metadata": {},
   "outputs": [],
   "source": [
    "dfc=pd.read_csv(\"/Users/carlosgarcia/Desktop/DataProjects/clientes.csv\")"
   ]
  },
  {
   "cell_type": "code",
   "execution_count": 188,
   "id": "6434b34e",
   "metadata": {},
   "outputs": [
    {
     "data": {
      "text/html": [
       "<div>\n",
       "<style scoped>\n",
       "    .dataframe tbody tr th:only-of-type {\n",
       "        vertical-align: middle;\n",
       "    }\n",
       "\n",
       "    .dataframe tbody tr th {\n",
       "        vertical-align: top;\n",
       "    }\n",
       "\n",
       "    .dataframe thead th {\n",
       "        text-align: right;\n",
       "    }\n",
       "</style>\n",
       "<table border=\"1\" class=\"dataframe\">\n",
       "  <thead>\n",
       "    <tr style=\"text-align: right;\">\n",
       "      <th></th>\n",
       "      <th>nombre</th>\n",
       "      <th>apellido</th>\n",
       "      <th>fecha_de_nacimiento</th>\n",
       "      <th>empresa</th>\n",
       "      <th>correo</th>\n",
       "    </tr>\n",
       "  </thead>\n",
       "  <tbody>\n",
       "    <tr>\n",
       "      <th>0</th>\n",
       "      <td>Andres</td>\n",
       "      <td>Gonzales</td>\n",
       "      <td>24/03/69</td>\n",
       "      <td>a</td>\n",
       "      <td>andres@gmail.com</td>\n",
       "    </tr>\n",
       "    <tr>\n",
       "      <th>1</th>\n",
       "      <td>Mariana</td>\n",
       "      <td>Perez</td>\n",
       "      <td>25/03/94</td>\n",
       "      <td>b</td>\n",
       "      <td>mariana@gmail.com</td>\n",
       "    </tr>\n",
       "    <tr>\n",
       "      <th>2</th>\n",
       "      <td>Enrique</td>\n",
       "      <td>Mendoza</td>\n",
       "      <td>26/03/74</td>\n",
       "      <td>c</td>\n",
       "      <td>enrique@gmail.com</td>\n",
       "    </tr>\n",
       "    <tr>\n",
       "      <th>3</th>\n",
       "      <td>Andrea</td>\n",
       "      <td>Ortiz</td>\n",
       "      <td>27/03/86</td>\n",
       "      <td>d</td>\n",
       "      <td>andrea@gmail.com</td>\n",
       "    </tr>\n",
       "    <tr>\n",
       "      <th>4</th>\n",
       "      <td>Felipe</td>\n",
       "      <td>del Rio</td>\n",
       "      <td>07/12/83</td>\n",
       "      <td>e</td>\n",
       "      <td>felipe@gmail.com</td>\n",
       "    </tr>\n",
       "    <tr>\n",
       "      <th>5</th>\n",
       "      <td>Sergio</td>\n",
       "      <td>Garcia</td>\n",
       "      <td>07/12/92</td>\n",
       "      <td>g</td>\n",
       "      <td>sergio@gmail.com</td>\n",
       "    </tr>\n",
       "    <tr>\n",
       "      <th>6</th>\n",
       "      <td>Estefania</td>\n",
       "      <td>Mendivil</td>\n",
       "      <td>17/03/75</td>\n",
       "      <td>f</td>\n",
       "      <td>estefania@gmail.com</td>\n",
       "    </tr>\n",
       "  </tbody>\n",
       "</table>\n",
       "</div>"
      ],
      "text/plain": [
       "      nombre  apellido fecha_de_nacimiento empresa               correo\n",
       "0     Andres  Gonzales            24/03/69       a     andres@gmail.com\n",
       "1    Mariana     Perez            25/03/94       b    mariana@gmail.com\n",
       "2    Enrique   Mendoza            26/03/74       c    enrique@gmail.com\n",
       "3     Andrea     Ortiz            27/03/86       d     andrea@gmail.com\n",
       "4     Felipe   del Rio            07/12/83       e     felipe@gmail.com\n",
       "5     Sergio    Garcia            07/12/92       g     sergio@gmail.com\n",
       "6  Estefania  Mendivil            17/03/75       f  estefania@gmail.com"
      ]
     },
     "execution_count": 188,
     "metadata": {},
     "output_type": "execute_result"
    }
   ],
   "source": [
    "dfc"
   ]
  },
  {
   "cell_type": "code",
   "execution_count": 189,
   "id": "20fb1933",
   "metadata": {},
   "outputs": [
    {
     "data": {
      "text/plain": [
       "nombre                 object\n",
       "apellido               object\n",
       "fecha_de_nacimiento    object\n",
       "empresa                object\n",
       "correo                 object\n",
       "dtype: object"
      ]
     },
     "execution_count": 189,
     "metadata": {},
     "output_type": "execute_result"
    }
   ],
   "source": [
    "dfc.dtypes"
   ]
  },
  {
   "cell_type": "code",
   "execution_count": 195,
   "id": "460a9dab",
   "metadata": {},
   "outputs": [
    {
     "name": "stdout",
     "output_type": "stream",
     "text": [
      "Sent from: comunicaciones@prodensa.com\n",
      "To: felipe@gmail.com\n",
      "Subject: ¡Feliz cumpleaños, Felipe!\n",
      "  \n",
      "¡Te deseamos un excelente dia Felipe del Rio, en este tan especial 41 cumpleaños!\n",
      "  \n",
      "Firma de correo corporativa\n",
      "  \n",
      "  \n",
      "Sent from: comunicaciones@prodensa.com\n",
      "To: sergio@gmail.com\n",
      "Subject: ¡Feliz cumpleaños, Sergio!\n",
      "  \n",
      "¡Te deseamos un excelente dia Sergio Garcia, en este tan especial 32 cumpleaños!\n",
      "  \n",
      "Firma de correo corporativa\n",
      "  \n",
      "  \n"
     ]
    }
   ],
   "source": [
    "cumpleaneros=[]\n",
    "\n",
    "dfc['fecha_de_nacimiento'] = pd.to_datetime(dfc['fecha_de_nacimiento'], format='%d/%m/%y', errors='coerce')\n",
    "\n",
    "\n",
    "for index, row in dfc[(dfc[\"fecha_de_nacimiento\"].dt.day==date.today().day)&(dfc[\"fecha_de_nacimiento\"].dt.month==date.today().month)].iterrows():\n",
    "    fila_dict = row.to_dict()\n",
    "    cumpleaneros.append(fila_dict)\n",
    "    \n",
    "anio=date.today().year\n",
    "\n",
    "for x in cumpleaneros:\n",
    "    anios_cliente=(x[\"fecha_de_nacimiento\"].year)\n",
    "    print(f\"Sent from: comunicaciones@prodensa.com\")\n",
    "    print(f\"To: {x['correo']}\")\n",
    "    print(f\"Subject: ¡Feliz cumpleaños, {x['nombre']}!\")\n",
    "    print(f\"  \")\n",
    "    print(f\"¡Te deseamos un excelente dia {x['nombre']} {x['apellido']}, en este tan especial {anio-anios_cliente} cumpleaños!\")\n",
    "    print(f\"  \")\n",
    "    print(f\"Firma de correo corporativa\")\n",
    "    print(f\"  \")\n",
    "    print(f\"  \")"
   ]
  },
  {
   "cell_type": "code",
   "execution_count": null,
   "id": "6251e7d0",
   "metadata": {},
   "outputs": [],
   "source": []
  }
 ],
 "metadata": {
  "kernelspec": {
   "display_name": "Python 3 (ipykernel)",
   "language": "python",
   "name": "python3"
  },
  "language_info": {
   "codemirror_mode": {
    "name": "ipython",
    "version": 3
   },
   "file_extension": ".py",
   "mimetype": "text/x-python",
   "name": "python",
   "nbconvert_exporter": "python",
   "pygments_lexer": "ipython3",
   "version": "3.11.7"
  }
 },
 "nbformat": 4,
 "nbformat_minor": 5
}
