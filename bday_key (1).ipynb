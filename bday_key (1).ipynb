{
 "cells": [
  {
   "cell_type": "code",
   "execution_count": 1,
   "id": "a19c9ee5",
   "metadata": {},
   "outputs": [
    {
     "data": {
      "text/plain": [
       "True"
      ]
     },
     "execution_count": 1,
     "metadata": {},
     "output_type": "execute_result"
    }
   ],
   "source": [
    "import pandas as pd\n",
    "import os\n",
    "from dotenv import load_dotenv\n",
    "import smtplib\n",
    "from datetime import date\n",
    "from datetime import datetime\n",
    "\n",
    "import smtplib\n",
    "from email.mime.text import MIMEText\n",
    "from email.mime.multipart import MIMEMultipart\n",
    "from email.mime.image import MIMEImage\n",
    "from email.mime.base import MIMEBase\n",
    "from email import encoders\n",
    "import os\n",
    "\n",
    "load_dotenv()\n"
   ]
  },
  {
   "cell_type": "code",
   "execution_count": 2,
   "id": "ae0efe3f",
   "metadata": {},
   "outputs": [],
   "source": [
    "login=os.environ.get(\"login\")\n",
    "password=os.environ.get(\"login\")"
   ]
  },
  {
   "cell_type": "code",
   "execution_count": 3,
   "id": "ac14266f",
   "metadata": {},
   "outputs": [
    {
     "data": {
      "text/plain": [
       "datetime.date(2024, 12, 8)"
      ]
     },
     "execution_count": 3,
     "metadata": {},
     "output_type": "execute_result"
    }
   ],
   "source": [
    "date.today()"
   ]
  },
  {
   "cell_type": "code",
   "execution_count": 9,
   "id": "842791fc",
   "metadata": {},
   "outputs": [],
   "source": [
    "dfc=pd.read_csv(\"/Users/carlosgarcia/Desktop/DataProjects/clientes.csv\")"
   ]
  },
  {
   "cell_type": "code",
   "execution_count": 10,
   "id": "872abc74",
   "metadata": {},
   "outputs": [
    {
     "data": {
      "text/html": [
       "<div>\n",
       "<style scoped>\n",
       "    .dataframe tbody tr th:only-of-type {\n",
       "        vertical-align: middle;\n",
       "    }\n",
       "\n",
       "    .dataframe tbody tr th {\n",
       "        vertical-align: top;\n",
       "    }\n",
       "\n",
       "    .dataframe thead th {\n",
       "        text-align: right;\n",
       "    }\n",
       "</style>\n",
       "<table border=\"1\" class=\"dataframe\">\n",
       "  <thead>\n",
       "    <tr style=\"text-align: right;\">\n",
       "      <th></th>\n",
       "      <th>nombre</th>\n",
       "      <th>apellido</th>\n",
       "      <th>fecha_de_nacimiento</th>\n",
       "      <th>empresa</th>\n",
       "      <th>correo</th>\n",
       "    </tr>\n",
       "  </thead>\n",
       "  <tbody>\n",
       "    <tr>\n",
       "      <th>0</th>\n",
       "      <td>Andres</td>\n",
       "      <td>Gonzales</td>\n",
       "      <td>24/03/69</td>\n",
       "      <td>a</td>\n",
       "      <td>andres@gmail.com</td>\n",
       "    </tr>\n",
       "    <tr>\n",
       "      <th>1</th>\n",
       "      <td>Mariana</td>\n",
       "      <td>Perez</td>\n",
       "      <td>25/03/94</td>\n",
       "      <td>b</td>\n",
       "      <td>mariana@gmail.com</td>\n",
       "    </tr>\n",
       "    <tr>\n",
       "      <th>2</th>\n",
       "      <td>Enrique</td>\n",
       "      <td>Mendoza</td>\n",
       "      <td>26/03/74</td>\n",
       "      <td>c</td>\n",
       "      <td>enrique@gmail.com</td>\n",
       "    </tr>\n",
       "    <tr>\n",
       "      <th>3</th>\n",
       "      <td>Andrea</td>\n",
       "      <td>Ortiz</td>\n",
       "      <td>27/03/86</td>\n",
       "      <td>d</td>\n",
       "      <td>andrea@gmail.com</td>\n",
       "    </tr>\n",
       "    <tr>\n",
       "      <th>4</th>\n",
       "      <td>Felipe</td>\n",
       "      <td>del Rio</td>\n",
       "      <td>08/12/83</td>\n",
       "      <td>e</td>\n",
       "      <td>felipe@gmail.com</td>\n",
       "    </tr>\n",
       "    <tr>\n",
       "      <th>5</th>\n",
       "      <td>Sergio</td>\n",
       "      <td>Garcia</td>\n",
       "      <td>08/12/92</td>\n",
       "      <td>g</td>\n",
       "      <td>sergio@gmail.com</td>\n",
       "    </tr>\n",
       "    <tr>\n",
       "      <th>6</th>\n",
       "      <td>Estefania</td>\n",
       "      <td>Mendivil</td>\n",
       "      <td>17/03/75</td>\n",
       "      <td>f</td>\n",
       "      <td>estefania@gmail.com</td>\n",
       "    </tr>\n",
       "  </tbody>\n",
       "</table>\n",
       "</div>"
      ],
      "text/plain": [
       "      nombre  apellido fecha_de_nacimiento empresa               correo\n",
       "0     Andres  Gonzales            24/03/69       a     andres@gmail.com\n",
       "1    Mariana     Perez            25/03/94       b    mariana@gmail.com\n",
       "2    Enrique   Mendoza            26/03/74       c    enrique@gmail.com\n",
       "3     Andrea     Ortiz            27/03/86       d     andrea@gmail.com\n",
       "4     Felipe   del Rio            08/12/83       e     felipe@gmail.com\n",
       "5     Sergio    Garcia            08/12/92       g     sergio@gmail.com\n",
       "6  Estefania  Mendivil            17/03/75       f  estefania@gmail.com"
      ]
     },
     "execution_count": 10,
     "metadata": {},
     "output_type": "execute_result"
    }
   ],
   "source": [
    "dfc"
   ]
  },
  {
   "cell_type": "code",
   "execution_count": 6,
   "id": "9b50ce27",
   "metadata": {},
   "outputs": [
    {
     "data": {
      "text/plain": [
       "nombre                 object\n",
       "apellido               object\n",
       "fecha_de_nacimiento    object\n",
       "empresa                object\n",
       "correo                 object\n",
       "dtype: object"
      ]
     },
     "execution_count": 6,
     "metadata": {},
     "output_type": "execute_result"
    }
   ],
   "source": [
    "dfc.dtypes"
   ]
  },
  {
   "cell_type": "code",
   "execution_count": 8,
   "id": "db71a3e6",
   "metadata": {},
   "outputs": [
    {
     "name": "stdout",
     "output_type": "stream",
     "text": [
      "1\n"
     ]
    }
   ],
   "source": [
    "print(\"1\")"
   ]
  },
  {
   "cell_type": "code",
   "execution_count": 11,
   "id": "479e0be5",
   "metadata": {},
   "outputs": [
    {
     "name": "stdout",
     "output_type": "stream",
     "text": [
      "Sent from: comunicaciones@prodensa.com\n",
      "To: felipe@gmail.com\n",
      "Subject: ¡Feliz cumpleaños, Felipe!\n",
      "  \n",
      "¡Te deseamos un excelente dia Felipe del Rio, en este tan especial 41 cumpleaños!\n",
      "  \n",
      "Firma de correo corporativa\n",
      "  \n",
      "  \n",
      "Sent from: comunicaciones@prodensa.com\n",
      "To: sergio@gmail.com\n",
      "Subject: ¡Feliz cumpleaños, Sergio!\n",
      "  \n",
      "¡Te deseamos un excelente dia Sergio Garcia, en este tan especial 32 cumpleaños!\n",
      "  \n",
      "Firma de correo corporativa\n",
      "  \n",
      "  \n"
     ]
    }
   ],
   "source": [
    "cumpleaneros=[]\n",
    "\n",
    "dfc['fecha_de_nacimiento'] = pd.to_datetime(dfc['fecha_de_nacimiento'], format='%d/%m/%y', errors='coerce')\n",
    "\n",
    "\n",
    "for index, row in dfc[(dfc[\"fecha_de_nacimiento\"].dt.day==date.today().day)&(dfc[\"fecha_de_nacimiento\"].dt.month==date.today().month)].iterrows():\n",
    "    fila_dict = row.to_dict()\n",
    "    cumpleaneros.append(fila_dict)\n",
    "    \n",
    "anio=date.today().year\n",
    "\n",
    "for x in cumpleaneros:\n",
    "    anios_cliente=(x[\"fecha_de_nacimiento\"].year)\n",
    "    print(f\"Sent from: comunicaciones@prodensa.com\")\n",
    "    print(f\"To: {x['correo']}\")\n",
    "    print(f\"Subject: ¡Feliz cumpleaños, {x['nombre']}!\")\n",
    "    print(f\"  \")\n",
    "    print(f\"¡Te deseamos un excelente dia {x['nombre']} {x['apellido']}, en este tan especial {anio-anios_cliente} cumpleaños!\")\n",
    "    print(f\"  \")\n",
    "    print(f\"Firma de correo corporativa\")\n",
    "    print(f\"  \")\n",
    "    print(f\"  \")"
   ]
  },
  {
   "cell_type": "code",
   "execution_count": 20,
   "id": "719a0cdb",
   "metadata": {},
   "outputs": [
    {
     "name": "stdout",
     "output_type": "stream",
     "text": [
      "Sending...\n",
      "Sent\n"
     ]
    }
   ],
   "source": [
    "# Configuration\n",
    "print(\"Sending...\")\n",
    "port = 255\n",
    "smtp_server = \"live.smtp.mailtrap.io\"\n",
    "login = \"411ede6757f3a1\"  # Your login generated by Mailtrap\n",
    "password = \"e73e5fed3db551\"  # Your password generated by Mailtrap\n",
    "\n",
    "nombre=\"Carlos\"\n",
    "\n",
    "sender = \"comunicaciones@prodensa.com\"\n",
    "receiver = f\"{x['correo']}\"\n",
    "\n",
    "# HTML content with an image embedded\n",
    "# HTML content with an image embedded, using f-string to include the variable\n",
    "html = f\"\"\"\\\n",
    "<html>\n",
    "  <body>\n",
    "    <p>Hola, {x['nombre']} {x['apellido']},<br>\n",
    "    ¡Te deseamos un excelente dia, en este tan especial {anio-anios_cliente} cumpleaños de parte de la familia prodensa!.<br>\n",
    "    ¡Que lo pases de la mejor manera!<br>\n",
    "    <br>\n",
    "    <br>\n",
    "    Con cariño, <br>\n",
    "    <br>\n",
    "    <br>\n",
    "    <img src=\"cid:image1\">.</p>\n",
    "  </body>\n",
    "</html>\n",
    "\"\"\"\n",
    "\n",
    "# Create a multipart message and set headers\n",
    "message = MIMEMultipart()\n",
    "message[\"From\"] = sender_email\n",
    "message[\"To\"] = f\"{x['correo']}\"\n",
    "message[\"Subject\"] = \"¡Feliz Cumpleaños!\"\n",
    "\n",
    "# Attach the HTML part\n",
    "message.attach(MIMEText(html, \"html\"))\n",
    "# Specify the path to your image\n",
    "image_path = \"/Users/carlosgarcia/Desktop/DataProjects/download.png\"  # Change this to the correct path\n",
    "\n",
    "# Open the image file in binary mode\n",
    "with open(image_path, 'rb') as img:\n",
    "    # Attach the image file\n",
    "    msg_img = MIMEImage(img.read(), name=os.path.basename(image_path))\n",
    "    # Define the Content-ID header to use in the HTML body\n",
    "    msg_img.add_header('Content-ID', '<image1>')\n",
    "    # Attach the image to the message\n",
    "    message.attach(msg_img)\n",
    "\n",
    "# Send the email\n",
    "#with smtplib.SMTP(smtp_server, port) as server:\n",
    "#    print(\"3\")\n",
    "#    server.starttls()\n",
    "#    server.login(\"411ede6757f3a1\", \"e73e5fed3db551\")\n",
    "#    server.sendmail(sender, receiver, message.as_string())\n",
    "#    print(\"4\")\n",
    "\n",
    "\n",
    "\n",
    "with smtplib.SMTP(\"sandbox.smtp.mailtrap.io\", 2525) as server:\n",
    "    server.starttls()\n",
    "    server.login(\"411ede6757f3a1\", \"e73e5fed3db551\")\n",
    "    server.sendmail(sender, receiver, message.as_string())\n",
    "    \n",
    "print('Sent')"
   ]
  },
  {
   "cell_type": "code",
   "execution_count": 21,
   "id": "494ec2c5",
   "metadata": {},
   "outputs": [],
   "source": [
    "#Codigo Final ... ..."
   ]
  },
  {
   "cell_type": "code",
   "execution_count": 23,
   "id": "ca5587e6",
   "metadata": {},
   "outputs": [
    {
     "name": "stdout",
     "output_type": "stream",
     "text": [
      "Sending...\n",
      "Sent\n",
      "Sending...\n",
      "Sent\n"
     ]
    }
   ],
   "source": [
    "cumpleaneros=[]\n",
    "\n",
    "dfc['fecha_de_nacimiento'] = pd.to_datetime(dfc['fecha_de_nacimiento'], format='%d/%m/%y', errors='coerce')\n",
    "\n",
    "\n",
    "for index, row in dfc[(dfc[\"fecha_de_nacimiento\"].dt.day==date.today().day)&(dfc[\"fecha_de_nacimiento\"].dt.month==date.today().month)].iterrows():\n",
    "    fila_dict = row.to_dict()\n",
    "    cumpleaneros.append(fila_dict)\n",
    "    \n",
    "anio=date.today().year\n",
    "\n",
    "for x in cumpleaneros:\n",
    "    anios_cliente=(x[\"fecha_de_nacimiento\"].year)\n",
    "    print(\"Sending...\")\n",
    "    port = 255\n",
    "    smtp_server = \"live.smtp.mailtrap.io\"\n",
    "    login = \"411ede6757f3a1\"  # Your login generated by Mailtrap\n",
    "    password = \"e73e5fed3db551\"  # Your password generated by Mailtrap\n",
    "\n",
    "    nombre=\"Carlos\"\n",
    "\n",
    "    sender = \"comunicaciones@prodensa.com\"\n",
    "    receiver = f\"{x['correo']}\"\n",
    "\n",
    "    # HTML content with an image embedded\n",
    "    # HTML content with an image embedded, using f-string to include the variable\n",
    "    html = f\"\"\"\\\n",
    "    <html>\n",
    "      <body>\n",
    "        <p>Hola, {x['nombre']} {x['apellido']},<br>\n",
    "        ¡Te deseamos un excelente dia, en este tan especial {anio-anios_cliente} cumpleaños de parte de la \"familia nombre_de_empresa\" !.<br>\n",
    "        ¡Que lo pases de la mejor manera!<br>\n",
    "        <br>\n",
    "        <br>\n",
    "        Con cariño, <br>\n",
    "        <br>\n",
    "        <br>\n",
    "        <img src=\"cid:image1\">.</p>\n",
    "      </body>\n",
    "    </html>\n",
    "    \"\"\"\n",
    "\n",
    "    # Create a multipart message and set headers\n",
    "    message = MIMEMultipart()\n",
    "    message[\"From\"] = sender_email\n",
    "    message[\"To\"] = f\"{x['correo']}\"\n",
    "    message[\"Subject\"] = \"¡Feliz Cumpleaños!\"\n",
    "\n",
    "    # Attach the HTML part\n",
    "    message.attach(MIMEText(html, \"html\"))\n",
    "    # Specify the path to your image\n",
    "    image_path = \"/Users/carlosgarcia/Desktop/DataProjects/download.png\"  # Change this to the correct path\n",
    "\n",
    "    # Open the image file in binary mode\n",
    "    with open(image_path, 'rb') as img:\n",
    "        # Attach the image file\n",
    "        msg_img = MIMEImage(img.read(), name=os.path.basename(image_path))\n",
    "        # Define the Content-ID header to use in the HTML body\n",
    "        msg_img.add_header('Content-ID', '<image1>')\n",
    "        # Attach the image to the message\n",
    "        message.attach(msg_img)\n",
    "\n",
    "    # Send the email\n",
    "    #with smtplib.SMTP(smtp_server, port) as server:\n",
    "    #    print(\"3\")\n",
    "    #    server.starttls()\n",
    "    #    server.login(\"411ede6757f3a1\", \"e73e5fed3db551\")\n",
    "    #    server.sendmail(sender, receiver, message.as_string())\n",
    "    #    print(\"4\")\n",
    "\n",
    "\n",
    "\n",
    "    with smtplib.SMTP(\"sandbox.smtp.mailtrap.io\", 2525) as server:\n",
    "        server.starttls()\n",
    "        server.login(\"411ede6757f3a1\", \"e73e5fed3db551\")\n",
    "        server.sendmail(sender, receiver, message.as_string())\n",
    "\n",
    "    print('Sent')\n",
    "    "
   ]
  },
  {
   "cell_type": "code",
   "execution_count": null,
   "id": "570929bb",
   "metadata": {},
   "outputs": [],
   "source": []
  }
 ],
 "metadata": {
  "kernelspec": {
   "display_name": "Python 3 (ipykernel)",
   "language": "python",
   "name": "python3"
  },
  "language_info": {
   "codemirror_mode": {
    "name": "ipython",
    "version": 3
   },
   "file_extension": ".py",
   "mimetype": "text/x-python",
   "name": "python",
   "nbconvert_exporter": "python",
   "pygments_lexer": "ipython3",
   "version": "3.11.7"
  }
 },
 "nbformat": 4,
 "nbformat_minor": 5
}
